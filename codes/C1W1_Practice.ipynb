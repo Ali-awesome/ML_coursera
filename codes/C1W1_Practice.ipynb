{
 "cells": [
  {
   "attachments": {},
   "cell_type": "markdown",
   "metadata": {},
   "source": [
    "## Model Representation\n",
    "<img align=\"left\" src=\"../images/C1_W1_L3_S1_Lecture_b.png\"    style=\" width:96%; height:250px; padding: 10px;  \" />\n",
    "<img align=\"left\" src=\"../images/C1_W1_L3_S1_trainingdata.png\"    style=\" width:47%; height:200px; padding: 10px;  \" />\n",
    "<img align=\"left\" src=\"../images/C1_W1_L3_S1_model.png\"    style=\" width:47%; height:200px; padding: 10px;  \" />\n",
    "<img align=\"left\" src=\"../images/C1_W1_L3_S2_Lecture_b.png\"    style=\" width:96%; height:250px; padding: 10px;  \" />\n",
    "<img align=\"left\" src=\"../images/C1_W1_Lab02_GoalOfRegression.PNG\"    style=\" width:96%; height:200px; padding: 10px;  \" />\n",
    "<img align=\"left\" src=\"../images/C1_W1_L4_S1_Lecture_GD.png\"    style=\" width:96%; height:250px; padding: 10px;  \" />\n",
    "<img align=\"left\" src=\"../images/C1_W1_Lab03_lecture_slopes.PNG\"    style=\" width:47%; height:200px; padding: 10px;  \" />\n",
    "<img align=\"left\" src=\"../images/C1_W1_Lab03_lecture_learningrate.PNG\"    style=\" width:47%; height:200px; padding: 10px;  \" />\n",
    "<img align=\"left\" src=\"../images/C1_W1_Lab03_alpha_too_big.PNG\"    style=\" width:96%; height:250px; padding: 10px;  \" />"
   ]
  },
  {
   "cell_type": "code",
   "execution_count": 6,
   "metadata": {},
   "outputs": [],
   "source": [
    "import math, copy\n",
    "import pandas as pd\n",
    "import numpy as np\n",
    "import matplotlib.pyplot as plt\n",
    "plt.style.use('./deeplearning.mplstyle')\n",
    "from lab_utils_uni import plt_house_x, plt_contour_wgrad, plt_divergence, plt_gradients"
   ]
  },
  {
   "cell_type": "code",
   "execution_count": 57,
   "metadata": {},
   "outputs": [],
   "source": [
    "df = pd.read_csv('./data.csv')\n",
    "df.columns = df.columns.str.lower().str.replace(' ','_')\n",
    "\n",
    "list_of_head = list(df.dtypes[df.dtypes != 'object'].index)\n",
    "# list_of_head\n",
    "df['engine_hp'].fillna(round(df['engine_hp'].mean(),2),inplace=True)\n",
    "x_feature = df['engine_hp'].iloc[:101]\n",
    "y_target = df['msrp'].iloc[:101]\n",
    "# df['msrp'].isnull().sum()\n",
    "# for col in list_of_head:\n",
    "#     df[col] = df[col].str.lower().str.replace(' ', '_')\n",
    "# for col in df.columns:\n",
    "#     print(df[col].unique()[:5])\n",
    "#     print(df[col].nunique())\n",
    "#     print()"
   ]
  },
  {
   "cell_type": "code",
   "execution_count": null,
   "metadata": {},
   "outputs": [],
   "source": []
  }
 ],
 "metadata": {
  "kernelspec": {
   "display_name": "Python 3",
   "language": "python",
   "name": "python3"
  },
  "language_info": {
   "codemirror_mode": {
    "name": "ipython",
    "version": 3
   },
   "file_extension": ".py",
   "mimetype": "text/x-python",
   "name": "python",
   "nbconvert_exporter": "python",
   "pygments_lexer": "ipython3",
   "version": "3.7.3"
  },
  "orig_nbformat": 4
 },
 "nbformat": 4,
 "nbformat_minor": 2
}
